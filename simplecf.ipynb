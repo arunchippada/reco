{
 "cells": [
  {
   "cell_type": "code",
   "execution_count": 1,
   "metadata": {},
   "outputs": [],
   "source": [
    "import pandas as pd\n",
    "import numpy as np\n",
    "import random"
   ]
  },
  {
   "cell_type": "code",
   "execution_count": 2,
   "metadata": {},
   "outputs": [
    {
     "name": "stderr",
     "output_type": "stream",
     "text": [
      "C:\\Users\\arunch\\AppData\\Local\\Temp\\1\\ipykernel_9772\\1225439327.py:2: ParserWarning: Falling back to the 'python' engine because the 'c' engine does not support regex separators (separators > 1 char and different from '\\s+' are interpreted as regex); you can avoid this warning by specifying engine='python'.\n",
      "  users = pd.read_csv('movielens/users.dat',sep='::', header=None, names=unames)\n",
      "C:\\Users\\arunch\\AppData\\Local\\Temp\\1\\ipykernel_9772\\1225439327.py:5: ParserWarning: Falling back to the 'python' engine because the 'c' engine does not support regex separators (separators > 1 char and different from '\\s+' are interpreted as regex); you can avoid this warning by specifying engine='python'.\n",
      "  ratings = pd.read_table('movielens/ratings.dat',\n",
      "C:\\Users\\arunch\\AppData\\Local\\Temp\\1\\ipykernel_9772\\1225439327.py:9: ParserWarning: Falling back to the 'python' engine because the 'c' engine does not support regex separators (separators > 1 char and different from '\\s+' are interpreted as regex); you can avoid this warning by specifying engine='python'.\n",
      "  movies = pd.read_csv('movielens/movies.dat',sep='::', header=None, names=mnames, encoding='cp1252')\n",
      "C:\\Users\\arunch\\AppData\\Local\\Temp\\1\\ipykernel_9772\\1225439327.py:12: ParserWarning: Falling back to the 'python' engine because the 'c' engine does not support regex separators (separators > 1 char and different from '\\s+' are interpreted as regex); you can avoid this warning by specifying engine='python'.\n",
      "  ratings = pd.read_csv('movielens/ratings.dat',sep='::', header=None, names=rnames)\n"
     ]
    }
   ],
   "source": [
    "unames = ['user_id', 'gender', 'age', 'occupation', 'zip']\n",
    "users = pd.read_csv('movielens/users.dat',sep='::', header=None, names=unames)\n",
    "\n",
    "rnames = ['user_id', 'movie_id', 'rating', 'timestamp']\n",
    "ratings = pd.read_table('movielens/ratings.dat',\n",
    "                        sep='::', header=None, names=rnames)\n",
    "\n",
    "mnames = ['movie_id', 'title', 'genres']\n",
    "movies = pd.read_csv('movielens/movies.dat',sep='::', header=None, names=mnames, encoding='cp1252')\n",
    "\n",
    "rnames = ['user_id', 'movie_id', 'rating', 'timestamp']\n",
    "ratings = pd.read_csv('movielens/ratings.dat',sep='::', header=None, names=rnames)\n",
    "                        "
   ]
  },
  {
   "cell_type": "code",
   "execution_count": 3,
   "metadata": {},
   "outputs": [],
   "source": [
    "movielens = pd.merge(pd.merge(ratings, users), movies)"
   ]
  },
  {
   "cell_type": "code",
   "execution_count": 4,
   "metadata": {},
   "outputs": [
    {
     "data": {
      "text/plain": [
       "M    753769\n",
       "F    246440\n",
       "Name: gender, dtype: int64"
      ]
     },
     "execution_count": 4,
     "metadata": {},
     "output_type": "execute_result"
    }
   ],
   "source": [
    "movielens.gender.value_counts()"
   ]
  },
  {
   "cell_type": "code",
   "execution_count": 5,
   "metadata": {},
   "outputs": [],
   "source": [
    "movie_gender = movielens.pivot_table(values='rating', index='title', columns='gender', aggfunc=['mean', 'size'])\n",
    "movie_gender['totalratings'] = movie_gender[('size', 'F')] + movie_gender[('size', 'M')]"
   ]
  },
  {
   "cell_type": "code",
   "execution_count": 6,
   "metadata": {},
   "outputs": [
    {
     "data": {
      "text/html": [
       "<div>\n",
       "<style scoped>\n",
       "    .dataframe tbody tr th:only-of-type {\n",
       "        vertical-align: middle;\n",
       "    }\n",
       "\n",
       "    .dataframe tbody tr th {\n",
       "        vertical-align: top;\n",
       "    }\n",
       "\n",
       "    .dataframe thead tr th {\n",
       "        text-align: left;\n",
       "    }\n",
       "\n",
       "    .dataframe thead tr:last-of-type th {\n",
       "        text-align: right;\n",
       "    }\n",
       "</style>\n",
       "<table border=\"1\" class=\"dataframe\">\n",
       "  <thead>\n",
       "    <tr>\n",
       "      <th></th>\n",
       "      <th colspan=\"2\" halign=\"left\">mean</th>\n",
       "      <th colspan=\"2\" halign=\"left\">size</th>\n",
       "      <th>totalratings</th>\n",
       "    </tr>\n",
       "    <tr>\n",
       "      <th>gender</th>\n",
       "      <th>F</th>\n",
       "      <th>M</th>\n",
       "      <th>F</th>\n",
       "      <th>M</th>\n",
       "      <th></th>\n",
       "    </tr>\n",
       "    <tr>\n",
       "      <th>title</th>\n",
       "      <th></th>\n",
       "      <th></th>\n",
       "      <th></th>\n",
       "      <th></th>\n",
       "      <th></th>\n",
       "    </tr>\n",
       "  </thead>\n",
       "  <tbody>\n",
       "    <tr>\n",
       "      <th>American Beauty (1999)</th>\n",
       "      <td>4.238901</td>\n",
       "      <td>4.347301</td>\n",
       "      <td>946.0</td>\n",
       "      <td>2482.0</td>\n",
       "      <td>3428.0</td>\n",
       "    </tr>\n",
       "    <tr>\n",
       "      <th>Star Wars: Episode IV - A New Hope (1977)</th>\n",
       "      <td>4.302937</td>\n",
       "      <td>4.495307</td>\n",
       "      <td>647.0</td>\n",
       "      <td>2344.0</td>\n",
       "      <td>2991.0</td>\n",
       "    </tr>\n",
       "    <tr>\n",
       "      <th>Star Wars: Episode V - The Empire Strikes Back (1980)</th>\n",
       "      <td>4.106481</td>\n",
       "      <td>4.344577</td>\n",
       "      <td>648.0</td>\n",
       "      <td>2342.0</td>\n",
       "      <td>2990.0</td>\n",
       "    </tr>\n",
       "    <tr>\n",
       "      <th>Star Wars: Episode VI - Return of the Jedi (1983)</th>\n",
       "      <td>3.865237</td>\n",
       "      <td>4.069058</td>\n",
       "      <td>653.0</td>\n",
       "      <td>2230.0</td>\n",
       "      <td>2883.0</td>\n",
       "    </tr>\n",
       "    <tr>\n",
       "      <th>Jurassic Park (1993)</th>\n",
       "      <td>3.579407</td>\n",
       "      <td>3.814197</td>\n",
       "      <td>573.0</td>\n",
       "      <td>2099.0</td>\n",
       "      <td>2672.0</td>\n",
       "    </tr>\n",
       "  </tbody>\n",
       "</table>\n",
       "</div>"
      ],
      "text/plain": [
       "                                                        mean             size  \\\n",
       "gender                                                     F         M      F   \n",
       "title                                                                           \n",
       "American Beauty (1999)                              4.238901  4.347301  946.0   \n",
       "Star Wars: Episode IV - A New Hope (1977)           4.302937  4.495307  647.0   \n",
       "Star Wars: Episode V - The Empire Strikes Back ...  4.106481  4.344577  648.0   \n",
       "Star Wars: Episode VI - Return of the Jedi (1983)   3.865237  4.069058  653.0   \n",
       "Jurassic Park (1993)                                3.579407  3.814197  573.0   \n",
       "\n",
       "                                                           totalratings  \n",
       "gender                                                   M               \n",
       "title                                                                    \n",
       "American Beauty (1999)                              2482.0       3428.0  \n",
       "Star Wars: Episode IV - A New Hope (1977)           2344.0       2991.0  \n",
       "Star Wars: Episode V - The Empire Strikes Back ...  2342.0       2990.0  \n",
       "Star Wars: Episode VI - Return of the Jedi (1983)   2230.0       2883.0  \n",
       "Jurassic Park (1993)                                2099.0       2672.0  "
      ]
     },
     "execution_count": 6,
     "metadata": {},
     "output_type": "execute_result"
    }
   ],
   "source": [
    "sorted_ratingcnt = movie_gender.sort_values(by='totalratings', ascending=False)\n",
    "sorted_ratingcnt[:5]"
   ]
  },
  {
   "cell_type": "code",
   "execution_count": 7,
   "metadata": {},
   "outputs": [
    {
     "name": "stderr",
     "output_type": "stream",
     "text": [
      "C:\\Users\\arunch\\AppData\\Local\\Temp\\1\\ipykernel_9772\\3977236505.py:2: SettingWithCopyWarning: \n",
      "A value is trying to be set on a copy of a slice from a DataFrame.\n",
      "Try using .loc[row_indexer,col_indexer] = value instead\n",
      "\n",
      "See the caveats in the documentation: https://pandas.pydata.org/pandas-docs/stable/user_guide/indexing.html#returning-a-view-versus-a-copy\n",
      "  active_ratings['ratingdiff'] = active_ratings[('mean', 'M')] - active_ratings[('mean', 'F')]\n"
     ]
    }
   ],
   "source": [
    "active_ratings = movie_gender[movie_gender.totalratings >= 250]\n",
    "active_ratings['ratingdiff'] = active_ratings[('mean', 'M')] - active_ratings[('mean', 'F')]"
   ]
  },
  {
   "cell_type": "code",
   "execution_count": 8,
   "metadata": {},
   "outputs": [],
   "source": [
    "moviestats = movielens.groupby(by='title').agg({'rating': ['size', 'mean', 'std']})\n",
    "active_movies = moviestats[moviestats[('rating', 'size')] >= 250]"
   ]
  },
  {
   "cell_type": "code",
   "execution_count": 9,
   "metadata": {},
   "outputs": [
    {
     "data": {
      "text/html": [
       "<div>\n",
       "<style scoped>\n",
       "    .dataframe tbody tr th:only-of-type {\n",
       "        vertical-align: middle;\n",
       "    }\n",
       "\n",
       "    .dataframe tbody tr th {\n",
       "        vertical-align: top;\n",
       "    }\n",
       "\n",
       "    .dataframe thead tr th {\n",
       "        text-align: left;\n",
       "    }\n",
       "\n",
       "    .dataframe thead tr:last-of-type th {\n",
       "        text-align: right;\n",
       "    }\n",
       "</style>\n",
       "<table border=\"1\" class=\"dataframe\">\n",
       "  <thead>\n",
       "    <tr>\n",
       "      <th></th>\n",
       "      <th colspan=\"3\" halign=\"left\">rating</th>\n",
       "    </tr>\n",
       "    <tr>\n",
       "      <th></th>\n",
       "      <th>size</th>\n",
       "      <th>mean</th>\n",
       "      <th>std</th>\n",
       "    </tr>\n",
       "    <tr>\n",
       "      <th>title</th>\n",
       "      <th></th>\n",
       "      <th></th>\n",
       "      <th></th>\n",
       "    </tr>\n",
       "  </thead>\n",
       "  <tbody>\n",
       "    <tr>\n",
       "      <th>Dumb &amp; Dumber (1994)</th>\n",
       "      <td>660</td>\n",
       "      <td>3.192424</td>\n",
       "      <td>1.321333</td>\n",
       "    </tr>\n",
       "    <tr>\n",
       "      <th>Blair Witch Project, The (1999)</th>\n",
       "      <td>1237</td>\n",
       "      <td>3.031528</td>\n",
       "      <td>1.316368</td>\n",
       "    </tr>\n",
       "    <tr>\n",
       "      <th>Natural Born Killers (1994)</th>\n",
       "      <td>700</td>\n",
       "      <td>3.144286</td>\n",
       "      <td>1.307198</td>\n",
       "    </tr>\n",
       "    <tr>\n",
       "      <th>Tank Girl (1995)</th>\n",
       "      <td>358</td>\n",
       "      <td>2.614525</td>\n",
       "      <td>1.277695</td>\n",
       "    </tr>\n",
       "    <tr>\n",
       "      <th>Rocky Horror Picture Show, The (1975)</th>\n",
       "      <td>1233</td>\n",
       "      <td>3.291160</td>\n",
       "      <td>1.260177</td>\n",
       "    </tr>\n",
       "  </tbody>\n",
       "</table>\n",
       "</div>"
      ],
      "text/plain": [
       "                                      rating                    \n",
       "                                        size      mean       std\n",
       "title                                                           \n",
       "Dumb & Dumber (1994)                     660  3.192424  1.321333\n",
       "Blair Witch Project, The (1999)         1237  3.031528  1.316368\n",
       "Natural Born Killers (1994)              700  3.144286  1.307198\n",
       "Tank Girl (1995)                         358  2.614525  1.277695\n",
       "Rocky Horror Picture Show, The (1975)   1233  3.291160  1.260177"
      ]
     },
     "execution_count": 9,
     "metadata": {},
     "output_type": "execute_result"
    }
   ],
   "source": [
    "# most disagreement\n",
    "active_movies.sort_values(by=('rating', 'std'), ascending=False)[:5]"
   ]
  },
  {
   "cell_type": "code",
   "execution_count": 10,
   "metadata": {},
   "outputs": [
    {
     "data": {
      "text/html": [
       "<div>\n",
       "<style scoped>\n",
       "    .dataframe tbody tr th:only-of-type {\n",
       "        vertical-align: middle;\n",
       "    }\n",
       "\n",
       "    .dataframe tbody tr th {\n",
       "        vertical-align: top;\n",
       "    }\n",
       "\n",
       "    .dataframe thead tr th {\n",
       "        text-align: left;\n",
       "    }\n",
       "\n",
       "    .dataframe thead tr:last-of-type th {\n",
       "        text-align: right;\n",
       "    }\n",
       "</style>\n",
       "<table border=\"1\" class=\"dataframe\">\n",
       "  <thead>\n",
       "    <tr>\n",
       "      <th></th>\n",
       "      <th colspan=\"2\" halign=\"left\">mean</th>\n",
       "      <th colspan=\"2\" halign=\"left\">size</th>\n",
       "      <th>totalratings</th>\n",
       "      <th>ratingdiff</th>\n",
       "    </tr>\n",
       "    <tr>\n",
       "      <th>gender</th>\n",
       "      <th>F</th>\n",
       "      <th>M</th>\n",
       "      <th>F</th>\n",
       "      <th>M</th>\n",
       "      <th></th>\n",
       "      <th></th>\n",
       "    </tr>\n",
       "    <tr>\n",
       "      <th>title</th>\n",
       "      <th></th>\n",
       "      <th></th>\n",
       "      <th></th>\n",
       "      <th></th>\n",
       "      <th></th>\n",
       "      <th></th>\n",
       "    </tr>\n",
       "  </thead>\n",
       "  <tbody>\n",
       "    <tr>\n",
       "      <th>Close Shave, A (1995)</th>\n",
       "      <td>4.644444</td>\n",
       "      <td>4.473795</td>\n",
       "      <td>180.0</td>\n",
       "      <td>477.0</td>\n",
       "      <td>657.0</td>\n",
       "      <td>-0.170650</td>\n",
       "    </tr>\n",
       "    <tr>\n",
       "      <th>Wrong Trousers, The (1993)</th>\n",
       "      <td>4.588235</td>\n",
       "      <td>4.478261</td>\n",
       "      <td>238.0</td>\n",
       "      <td>644.0</td>\n",
       "      <td>882.0</td>\n",
       "      <td>-0.109974</td>\n",
       "    </tr>\n",
       "    <tr>\n",
       "      <th>Sunset Blvd. (a.k.a. Sunset Boulevard) (1950)</th>\n",
       "      <td>4.572650</td>\n",
       "      <td>4.464589</td>\n",
       "      <td>117.0</td>\n",
       "      <td>353.0</td>\n",
       "      <td>470.0</td>\n",
       "      <td>-0.108060</td>\n",
       "    </tr>\n",
       "    <tr>\n",
       "      <th>Wallace &amp; Gromit: The Best of Aardman Animation (1996)</th>\n",
       "      <td>4.563107</td>\n",
       "      <td>4.385075</td>\n",
       "      <td>103.0</td>\n",
       "      <td>335.0</td>\n",
       "      <td>438.0</td>\n",
       "      <td>-0.178032</td>\n",
       "    </tr>\n",
       "    <tr>\n",
       "      <th>Schindler's List (1993)</th>\n",
       "      <td>4.562602</td>\n",
       "      <td>4.491415</td>\n",
       "      <td>615.0</td>\n",
       "      <td>1689.0</td>\n",
       "      <td>2304.0</td>\n",
       "      <td>-0.071187</td>\n",
       "    </tr>\n",
       "  </tbody>\n",
       "</table>\n",
       "</div>"
      ],
      "text/plain": [
       "                                                        mean             size  \\\n",
       "gender                                                     F         M      F   \n",
       "title                                                                           \n",
       "Close Shave, A (1995)                               4.644444  4.473795  180.0   \n",
       "Wrong Trousers, The (1993)                          4.588235  4.478261  238.0   \n",
       "Sunset Blvd. (a.k.a. Sunset Boulevard) (1950)       4.572650  4.464589  117.0   \n",
       "Wallace & Gromit: The Best of Aardman Animation...  4.563107  4.385075  103.0   \n",
       "Schindler's List (1993)                             4.562602  4.491415  615.0   \n",
       "\n",
       "                                                           totalratings  \\\n",
       "gender                                                   M                \n",
       "title                                                                     \n",
       "Close Shave, A (1995)                                477.0        657.0   \n",
       "Wrong Trousers, The (1993)                           644.0        882.0   \n",
       "Sunset Blvd. (a.k.a. Sunset Boulevard) (1950)        353.0        470.0   \n",
       "Wallace & Gromit: The Best of Aardman Animation...   335.0        438.0   \n",
       "Schindler's List (1993)                             1689.0       2304.0   \n",
       "\n",
       "                                                   ratingdiff  \n",
       "gender                                                         \n",
       "title                                                          \n",
       "Close Shave, A (1995)                               -0.170650  \n",
       "Wrong Trousers, The (1993)                          -0.109974  \n",
       "Sunset Blvd. (a.k.a. Sunset Boulevard) (1950)       -0.108060  \n",
       "Wallace & Gromit: The Best of Aardman Animation...  -0.178032  \n",
       "Schindler's List (1993)                             -0.071187  "
      ]
     },
     "execution_count": 10,
     "metadata": {},
     "output_type": "execute_result"
    }
   ],
   "source": [
    "# Higly rated movies by women\n",
    "sorted_fratingcnt = active_ratings.sort_values(by=('mean', 'F'), ascending=False)\n",
    "sorted_fratingcnt[:5]"
   ]
  },
  {
   "cell_type": "code",
   "execution_count": 11,
   "metadata": {},
   "outputs": [
    {
     "data": {
      "text/html": [
       "<div>\n",
       "<style scoped>\n",
       "    .dataframe tbody tr th:only-of-type {\n",
       "        vertical-align: middle;\n",
       "    }\n",
       "\n",
       "    .dataframe tbody tr th {\n",
       "        vertical-align: top;\n",
       "    }\n",
       "\n",
       "    .dataframe thead tr th {\n",
       "        text-align: left;\n",
       "    }\n",
       "\n",
       "    .dataframe thead tr:last-of-type th {\n",
       "        text-align: right;\n",
       "    }\n",
       "</style>\n",
       "<table border=\"1\" class=\"dataframe\">\n",
       "  <thead>\n",
       "    <tr>\n",
       "      <th></th>\n",
       "      <th colspan=\"2\" halign=\"left\">mean</th>\n",
       "      <th colspan=\"2\" halign=\"left\">size</th>\n",
       "      <th>totalratings</th>\n",
       "      <th>ratingdiff</th>\n",
       "    </tr>\n",
       "    <tr>\n",
       "      <th>gender</th>\n",
       "      <th>F</th>\n",
       "      <th>M</th>\n",
       "      <th>F</th>\n",
       "      <th>M</th>\n",
       "      <th></th>\n",
       "      <th></th>\n",
       "    </tr>\n",
       "    <tr>\n",
       "      <th>title</th>\n",
       "      <th></th>\n",
       "      <th></th>\n",
       "      <th></th>\n",
       "      <th></th>\n",
       "      <th></th>\n",
       "      <th></th>\n",
       "    </tr>\n",
       "  </thead>\n",
       "  <tbody>\n",
       "    <tr>\n",
       "      <th>Dirty Dancing (1987)</th>\n",
       "      <td>3.790378</td>\n",
       "      <td>2.959596</td>\n",
       "      <td>291.0</td>\n",
       "      <td>396.0</td>\n",
       "      <td>687.0</td>\n",
       "      <td>-0.830782</td>\n",
       "    </tr>\n",
       "    <tr>\n",
       "      <th>Jumpin' Jack Flash (1986)</th>\n",
       "      <td>3.254717</td>\n",
       "      <td>2.578358</td>\n",
       "      <td>106.0</td>\n",
       "      <td>268.0</td>\n",
       "      <td>374.0</td>\n",
       "      <td>-0.676359</td>\n",
       "    </tr>\n",
       "    <tr>\n",
       "      <th>Grease (1978)</th>\n",
       "      <td>3.975265</td>\n",
       "      <td>3.367041</td>\n",
       "      <td>283.0</td>\n",
       "      <td>534.0</td>\n",
       "      <td>817.0</td>\n",
       "      <td>-0.608224</td>\n",
       "    </tr>\n",
       "    <tr>\n",
       "      <th>Little Women (1994)</th>\n",
       "      <td>3.870588</td>\n",
       "      <td>3.321739</td>\n",
       "      <td>170.0</td>\n",
       "      <td>115.0</td>\n",
       "      <td>285.0</td>\n",
       "      <td>-0.548849</td>\n",
       "    </tr>\n",
       "    <tr>\n",
       "      <th>Steel Magnolias (1989)</th>\n",
       "      <td>3.901734</td>\n",
       "      <td>3.365957</td>\n",
       "      <td>173.0</td>\n",
       "      <td>235.0</td>\n",
       "      <td>408.0</td>\n",
       "      <td>-0.535777</td>\n",
       "    </tr>\n",
       "  </tbody>\n",
       "</table>\n",
       "</div>"
      ],
      "text/plain": [
       "                               mean             size        totalratings  \\\n",
       "gender                            F         M      F      M                \n",
       "title                                                                      \n",
       "Dirty Dancing (1987)       3.790378  2.959596  291.0  396.0        687.0   \n",
       "Jumpin' Jack Flash (1986)  3.254717  2.578358  106.0  268.0        374.0   \n",
       "Grease (1978)              3.975265  3.367041  283.0  534.0        817.0   \n",
       "Little Women (1994)        3.870588  3.321739  170.0  115.0        285.0   \n",
       "Steel Magnolias (1989)     3.901734  3.365957  173.0  235.0        408.0   \n",
       "\n",
       "                          ratingdiff  \n",
       "gender                                \n",
       "title                                 \n",
       "Dirty Dancing (1987)       -0.830782  \n",
       "Jumpin' Jack Flash (1986)  -0.676359  \n",
       "Grease (1978)              -0.608224  \n",
       "Little Women (1994)        -0.548849  \n",
       "Steel Magnolias (1989)     -0.535777  "
      ]
     },
     "execution_count": 11,
     "metadata": {},
     "output_type": "execute_result"
    }
   ],
   "source": [
    "# rated higly by women and lowly by men\n",
    "sorted_ratingdiff = active_ratings.sort_values(by='ratingdiff')\n",
    "sorted_ratingdiff[:5]"
   ]
  },
  {
   "cell_type": "code",
   "execution_count": 12,
   "metadata": {},
   "outputs": [
    {
     "data": {
      "text/html": [
       "<div>\n",
       "<style scoped>\n",
       "    .dataframe tbody tr th:only-of-type {\n",
       "        vertical-align: middle;\n",
       "    }\n",
       "\n",
       "    .dataframe tbody tr th {\n",
       "        vertical-align: top;\n",
       "    }\n",
       "\n",
       "    .dataframe thead tr th {\n",
       "        text-align: left;\n",
       "    }\n",
       "\n",
       "    .dataframe thead tr:last-of-type th {\n",
       "        text-align: right;\n",
       "    }\n",
       "</style>\n",
       "<table border=\"1\" class=\"dataframe\">\n",
       "  <thead>\n",
       "    <tr>\n",
       "      <th></th>\n",
       "      <th colspan=\"2\" halign=\"left\">mean</th>\n",
       "      <th colspan=\"2\" halign=\"left\">size</th>\n",
       "      <th>totalratings</th>\n",
       "      <th>ratingdiff</th>\n",
       "    </tr>\n",
       "    <tr>\n",
       "      <th>gender</th>\n",
       "      <th>F</th>\n",
       "      <th>M</th>\n",
       "      <th>F</th>\n",
       "      <th>M</th>\n",
       "      <th></th>\n",
       "      <th></th>\n",
       "    </tr>\n",
       "    <tr>\n",
       "      <th>title</th>\n",
       "      <th></th>\n",
       "      <th></th>\n",
       "      <th></th>\n",
       "      <th></th>\n",
       "      <th></th>\n",
       "      <th></th>\n",
       "    </tr>\n",
       "  </thead>\n",
       "  <tbody>\n",
       "    <tr>\n",
       "      <th>Good, The Bad and The Ugly, The (1966)</th>\n",
       "      <td>3.494949</td>\n",
       "      <td>4.221300</td>\n",
       "      <td>99.0</td>\n",
       "      <td>723.0</td>\n",
       "      <td>822.0</td>\n",
       "      <td>0.726351</td>\n",
       "    </tr>\n",
       "    <tr>\n",
       "      <th>Kentucky Fried Movie, The (1977)</th>\n",
       "      <td>2.878788</td>\n",
       "      <td>3.555147</td>\n",
       "      <td>33.0</td>\n",
       "      <td>272.0</td>\n",
       "      <td>305.0</td>\n",
       "      <td>0.676359</td>\n",
       "    </tr>\n",
       "    <tr>\n",
       "      <th>Dumb &amp; Dumber (1994)</th>\n",
       "      <td>2.697987</td>\n",
       "      <td>3.336595</td>\n",
       "      <td>149.0</td>\n",
       "      <td>511.0</td>\n",
       "      <td>660.0</td>\n",
       "      <td>0.638608</td>\n",
       "    </tr>\n",
       "    <tr>\n",
       "      <th>Longest Day, The (1962)</th>\n",
       "      <td>3.411765</td>\n",
       "      <td>4.031447</td>\n",
       "      <td>34.0</td>\n",
       "      <td>318.0</td>\n",
       "      <td>352.0</td>\n",
       "      <td>0.619682</td>\n",
       "    </tr>\n",
       "    <tr>\n",
       "      <th>Cable Guy, The (1996)</th>\n",
       "      <td>2.250000</td>\n",
       "      <td>2.863787</td>\n",
       "      <td>84.0</td>\n",
       "      <td>301.0</td>\n",
       "      <td>385.0</td>\n",
       "      <td>0.613787</td>\n",
       "    </tr>\n",
       "  </tbody>\n",
       "</table>\n",
       "</div>"
      ],
      "text/plain": [
       "                                            mean             size         \\\n",
       "gender                                         F         M      F      M   \n",
       "title                                                                      \n",
       "Good, The Bad and The Ugly, The (1966)  3.494949  4.221300   99.0  723.0   \n",
       "Kentucky Fried Movie, The (1977)        2.878788  3.555147   33.0  272.0   \n",
       "Dumb & Dumber (1994)                    2.697987  3.336595  149.0  511.0   \n",
       "Longest Day, The (1962)                 3.411765  4.031447   34.0  318.0   \n",
       "Cable Guy, The (1996)                   2.250000  2.863787   84.0  301.0   \n",
       "\n",
       "                                       totalratings ratingdiff  \n",
       "gender                                                          \n",
       "title                                                           \n",
       "Good, The Bad and The Ugly, The (1966)        822.0   0.726351  \n",
       "Kentucky Fried Movie, The (1977)              305.0   0.676359  \n",
       "Dumb & Dumber (1994)                          660.0   0.638608  \n",
       "Longest Day, The (1962)                       352.0   0.619682  \n",
       "Cable Guy, The (1996)                         385.0   0.613787  "
      ]
     },
     "execution_count": 12,
     "metadata": {},
     "output_type": "execute_result"
    }
   ],
   "source": [
    "# rated highly by men and lowly by women\n",
    "sorted_ratingdiff[::-1][:5]"
   ]
  },
  {
   "cell_type": "code",
   "execution_count": 13,
   "metadata": {},
   "outputs": [
    {
     "data": {
      "text/html": [
       "<div>\n",
       "<style scoped>\n",
       "    .dataframe tbody tr th:only-of-type {\n",
       "        vertical-align: middle;\n",
       "    }\n",
       "\n",
       "    .dataframe tbody tr th {\n",
       "        vertical-align: top;\n",
       "    }\n",
       "\n",
       "    .dataframe thead th {\n",
       "        text-align: right;\n",
       "    }\n",
       "</style>\n",
       "<table border=\"1\" class=\"dataframe\">\n",
       "  <thead>\n",
       "    <tr style=\"text-align: right;\">\n",
       "      <th></th>\n",
       "      <th>user_id</th>\n",
       "      <th>movie_id</th>\n",
       "      <th>rating</th>\n",
       "      <th>timestamp</th>\n",
       "      <th>gender</th>\n",
       "      <th>age</th>\n",
       "      <th>occupation</th>\n",
       "      <th>zip</th>\n",
       "      <th>title</th>\n",
       "      <th>genres</th>\n",
       "    </tr>\n",
       "  </thead>\n",
       "  <tbody>\n",
       "    <tr>\n",
       "      <th>0</th>\n",
       "      <td>1</td>\n",
       "      <td>1193</td>\n",
       "      <td>5</td>\n",
       "      <td>978300760</td>\n",
       "      <td>F</td>\n",
       "      <td>1</td>\n",
       "      <td>10</td>\n",
       "      <td>48067</td>\n",
       "      <td>One Flew Over the Cuckoo's Nest (1975)</td>\n",
       "      <td>Drama</td>\n",
       "    </tr>\n",
       "    <tr>\n",
       "      <th>1</th>\n",
       "      <td>2</td>\n",
       "      <td>1193</td>\n",
       "      <td>5</td>\n",
       "      <td>978298413</td>\n",
       "      <td>M</td>\n",
       "      <td>56</td>\n",
       "      <td>16</td>\n",
       "      <td>70072</td>\n",
       "      <td>One Flew Over the Cuckoo's Nest (1975)</td>\n",
       "      <td>Drama</td>\n",
       "    </tr>\n",
       "    <tr>\n",
       "      <th>2</th>\n",
       "      <td>12</td>\n",
       "      <td>1193</td>\n",
       "      <td>4</td>\n",
       "      <td>978220179</td>\n",
       "      <td>M</td>\n",
       "      <td>25</td>\n",
       "      <td>12</td>\n",
       "      <td>32793</td>\n",
       "      <td>One Flew Over the Cuckoo's Nest (1975)</td>\n",
       "      <td>Drama</td>\n",
       "    </tr>\n",
       "    <tr>\n",
       "      <th>3</th>\n",
       "      <td>15</td>\n",
       "      <td>1193</td>\n",
       "      <td>4</td>\n",
       "      <td>978199279</td>\n",
       "      <td>M</td>\n",
       "      <td>25</td>\n",
       "      <td>7</td>\n",
       "      <td>22903</td>\n",
       "      <td>One Flew Over the Cuckoo's Nest (1975)</td>\n",
       "      <td>Drama</td>\n",
       "    </tr>\n",
       "    <tr>\n",
       "      <th>4</th>\n",
       "      <td>17</td>\n",
       "      <td>1193</td>\n",
       "      <td>5</td>\n",
       "      <td>978158471</td>\n",
       "      <td>M</td>\n",
       "      <td>50</td>\n",
       "      <td>1</td>\n",
       "      <td>95350</td>\n",
       "      <td>One Flew Over the Cuckoo's Nest (1975)</td>\n",
       "      <td>Drama</td>\n",
       "    </tr>\n",
       "  </tbody>\n",
       "</table>\n",
       "</div>"
      ],
      "text/plain": [
       "   user_id  movie_id  rating  timestamp gender  age  occupation    zip  \\\n",
       "0        1      1193       5  978300760      F    1          10  48067   \n",
       "1        2      1193       5  978298413      M   56          16  70072   \n",
       "2       12      1193       4  978220179      M   25          12  32793   \n",
       "3       15      1193       4  978199279      M   25           7  22903   \n",
       "4       17      1193       5  978158471      M   50           1  95350   \n",
       "\n",
       "                                    title genres  \n",
       "0  One Flew Over the Cuckoo's Nest (1975)  Drama  \n",
       "1  One Flew Over the Cuckoo's Nest (1975)  Drama  \n",
       "2  One Flew Over the Cuckoo's Nest (1975)  Drama  \n",
       "3  One Flew Over the Cuckoo's Nest (1975)  Drama  \n",
       "4  One Flew Over the Cuckoo's Nest (1975)  Drama  "
      ]
     },
     "execution_count": 13,
     "metadata": {},
     "output_type": "execute_result"
    }
   ],
   "source": [
    "movielens[:5]"
   ]
  },
  {
   "cell_type": "code",
   "execution_count": 14,
   "metadata": {},
   "outputs": [
    {
     "name": "stdout",
     "output_type": "stream",
     "text": [
      "(1000209, 10)\n",
      "count     1000209\n",
      "unique       6040\n",
      "top          4169\n",
      "freq         2314\n",
      "Name: user_id, dtype: int64\n",
      "count     1000209\n",
      "unique       3706\n",
      "top          2858\n",
      "freq         3428\n",
      "Name: movie_id, dtype: int64\n"
     ]
    }
   ],
   "source": [
    "print(movielens.shape)\n",
    "# print(movielens.user_id.unique().shape)\n",
    "print(movielens.user_id.astype('object').describe())\n",
    "print(movielens.movie_id.astype('object').describe())"
   ]
  },
  {
   "cell_type": "code",
   "execution_count": 15,
   "metadata": {},
   "outputs": [],
   "source": [
    "# Train and Test sets\n",
    "\n",
    "# Use entire movielens set for generating train and test set (so that we have more training data for similarity scores)\n",
    "sample = movielens.copy(deep=True)\n",
    "# sample = movielens.loc[np.random.choice(movielens.index, size=10000, replace=False)]\n",
    "# Take userids that have atleast 3 ratings\n",
    "userid_min_ratingcnt = sample.user_id.value_counts() > 3\n",
    "sample = sample[userid_min_ratingcnt[sample.user_id].values]"
   ]
  },
  {
   "cell_type": "code",
   "execution_count": 16,
   "metadata": {},
   "outputs": [
    {
     "name": "stdout",
     "output_type": "stream",
     "text": [
      "(1000209, 10)\n",
      "count     1000209\n",
      "unique       6040\n",
      "top          4169\n",
      "freq         2314\n",
      "Name: user_id, dtype: int64\n",
      "count     1000209\n",
      "unique       3706\n",
      "top          2858\n",
      "freq         3428\n",
      "Name: movie_id, dtype: int64\n"
     ]
    }
   ],
   "source": [
    "print(sample.shape)\n",
    "# print(movielens.user_id.unique().shape)\n",
    "print(sample.user_id.astype('object').describe())\n",
    "print(sample.movie_id.astype('object').describe())"
   ]
  },
  {
   "cell_type": "code",
   "execution_count": 17,
   "metadata": {},
   "outputs": [],
   "source": [
    "def assign_to_set(df):\n",
    "    sampled_ids = np.random.choice(df.index,\n",
    "                                   size=np.int64(np.ceil(df.index.size * 0.2)),\n",
    "                                   replace=False)\n",
    "    df.loc[sampled_ids, 'for_testing'] = True\n",
    "    return df"
   ]
  },
  {
   "cell_type": "code",
   "execution_count": 18,
   "metadata": {},
   "outputs": [],
   "source": [
    "sample['for_testing'] = False\n",
    "grouped = sample.groupby('user_id', group_keys=False).apply(assign_to_set)\n",
    "train = sample[grouped.for_testing == False]\n",
    "test = sample[grouped.for_testing == True]"
   ]
  },
  {
   "cell_type": "code",
   "execution_count": 19,
   "metadata": {},
   "outputs": [
    {
     "name": "stdout",
     "output_type": "stream",
     "text": [
      "(797758, 11)\n",
      "count     797758\n",
      "unique      6040\n",
      "top         4169\n",
      "freq        1851\n",
      "Name: user_id, dtype: int64\n",
      "count     797758\n",
      "unique      3673\n",
      "top         2858\n",
      "freq        2748\n",
      "Name: movie_id, dtype: int64\n"
     ]
    }
   ],
   "source": [
    "print(train.shape)\n",
    "# print(movielens.user_id.unique().shape)\n",
    "print(train.user_id.astype('object').describe())\n",
    "print(train.movie_id.astype('object').describe())"
   ]
  },
  {
   "cell_type": "code",
   "execution_count": 20,
   "metadata": {},
   "outputs": [
    {
     "data": {
      "text/plain": [
       "(202451, 11)"
      ]
     },
     "execution_count": 20,
     "metadata": {},
     "output_type": "execute_result"
    }
   ],
   "source": [
    "test.shape"
   ]
  },
  {
   "cell_type": "code",
   "execution_count": 21,
   "metadata": {},
   "outputs": [],
   "source": [
    "# Evaluation\n",
    "\n",
    "def compute_rmse(y_pred, y_true):\n",
    "    \"\"\" Compute Root Mean Squared Error. \"\"\"\n",
    "    return np.sqrt(np.mean(np.power(y_pred - y_true, 2)))\n",
    "\n",
    "\n",
    "def evaluate(estimate_f):\n",
    "    \"\"\" RMSE-based predictive performance evaluation with pandas. \"\"\"\n",
    "    ids_to_estimate = zip(test.user_id, test.movie_id)\n",
    "    estimated = np.array([estimate_f(u,i) for (u,i) in ids_to_estimate])\n",
    "    real = test.rating.values\n",
    "    return compute_rmse(estimated, real)"
   ]
  },
  {
   "cell_type": "code",
   "execution_count": 22,
   "metadata": {},
   "outputs": [],
   "source": [
    "def predict(t, estimate_f):\n",
    "    test_predictions = t.copy(deep=True)\n",
    "    test_predictions['prediction'] = test_predictions.apply(lambda x: estimate_f(x.user_id, x.movie_id), axis=1)\n",
    "\n",
    "    return test_predictions"
   ]
  },
  {
   "cell_type": "code",
   "execution_count": 23,
   "metadata": {},
   "outputs": [],
   "source": [
    "def evaluate_predictions(t):\n",
    "    estimated = t.prediction.values\n",
    "    real = t.rating.values\n",
    "    return compute_rmse(estimated, real)"
   ]
  },
  {
   "cell_type": "code",
   "execution_count": 24,
   "metadata": {},
   "outputs": [],
   "source": [
    "ratings_pivot = train.pivot_table(columns='user_id', index='movie_id', values='rating')\n",
    "sim_matrix = ratings_pivot.corr()\n",
    "sim_matrix_abs = sim_matrix.abs()\n",
    "cov_matrix = ratings_pivot.cov()\n",
    "\n",
    "u_mean_rating = ratings_pivot.mean()\n",
    "u_var_rating = ratings_pivot.var()\n",
    "\n",
    "var_not_zero = u_var_rating.loc[u_var_rating != 0]\n",
    "m = u_mean_rating[var_not_zero.index]\n",
    "\n",
    "norm_differential = pd.DataFrame(0, index=ratings_pivot.index, columns=ratings_pivot.columns)\n",
    "\n",
    "# (x - xmean)/varx\n",
    "norm_differential[var_not_zero.index] = ratings_pivot[var_not_zero.index].apply(lambda x: (x - m)/var_not_zero, axis=1)"
   ]
  },
  {
   "cell_type": "code",
   "execution_count": 37,
   "metadata": {},
   "outputs": [],
   "source": [
    "user_meanrating = train.groupby(by='user_id').agg({'rating': ['mean', 'size']})\n",
    "item_meanrating = train.groupby(by='movie_id').agg({'rating': ['mean', 'size']})"
   ]
  },
  {
   "cell_type": "code",
   "execution_count": 38,
   "metadata": {},
   "outputs": [],
   "source": [
    "# take mean of ratings for each user\n",
    "def contentbased_simplemean(u, i):\n",
    "        return user_meanrating.loc[u, ('rating', 'mean')]\n",
    "\n",
    "# take mean of ratings for each movie\n",
    "def collab_simplemean(u, i):\n",
    "        if i not in item_meanrating.index:\n",
    "                return 3.0\n",
    "        return item_meanrating.loc[i, ('rating', 'mean')]"
   ]
  },
  {
   "cell_type": "code",
   "execution_count": 39,
   "metadata": {},
   "outputs": [
    {
     "data": {
      "text/html": [
       "<div>\n",
       "<style scoped>\n",
       "    .dataframe tbody tr th:only-of-type {\n",
       "        vertical-align: middle;\n",
       "    }\n",
       "\n",
       "    .dataframe tbody tr th {\n",
       "        vertical-align: top;\n",
       "    }\n",
       "\n",
       "    .dataframe thead tr th {\n",
       "        text-align: left;\n",
       "    }\n",
       "\n",
       "    .dataframe thead tr:last-of-type th {\n",
       "        text-align: right;\n",
       "    }\n",
       "</style>\n",
       "<table border=\"1\" class=\"dataframe\">\n",
       "  <thead>\n",
       "    <tr>\n",
       "      <th></th>\n",
       "      <th colspan=\"2\" halign=\"left\">rating</th>\n",
       "    </tr>\n",
       "    <tr>\n",
       "      <th></th>\n",
       "      <th>mean</th>\n",
       "      <th>size</th>\n",
       "    </tr>\n",
       "    <tr>\n",
       "      <th>user_id</th>\n",
       "      <th></th>\n",
       "      <th></th>\n",
       "    </tr>\n",
       "  </thead>\n",
       "  <tbody>\n",
       "    <tr>\n",
       "      <th>1</th>\n",
       "      <td>4.238095</td>\n",
       "      <td>42</td>\n",
       "    </tr>\n",
       "    <tr>\n",
       "      <th>2</th>\n",
       "      <td>3.776699</td>\n",
       "      <td>103</td>\n",
       "    </tr>\n",
       "    <tr>\n",
       "      <th>3</th>\n",
       "      <td>3.875000</td>\n",
       "      <td>40</td>\n",
       "    </tr>\n",
       "    <tr>\n",
       "      <th>4</th>\n",
       "      <td>4.375000</td>\n",
       "      <td>16</td>\n",
       "    </tr>\n",
       "    <tr>\n",
       "      <th>5</th>\n",
       "      <td>3.227848</td>\n",
       "      <td>158</td>\n",
       "    </tr>\n",
       "  </tbody>\n",
       "</table>\n",
       "</div>"
      ],
      "text/plain": [
       "           rating     \n",
       "             mean size\n",
       "user_id               \n",
       "1        4.238095   42\n",
       "2        3.776699  103\n",
       "3        3.875000   40\n",
       "4        4.375000   16\n",
       "5        3.227848  158"
      ]
     },
     "execution_count": 39,
     "metadata": {},
     "output_type": "execute_result"
    }
   ],
   "source": [
    "user_meanrating[:5]"
   ]
  },
  {
   "cell_type": "code",
   "execution_count": 26,
   "metadata": {},
   "outputs": [
    {
     "data": {
      "text/plain": [
       "1.0346313914136418"
      ]
     },
     "execution_count": 26,
     "metadata": {},
     "output_type": "execute_result"
    }
   ],
   "source": [
    "evaluate(contentbased_simplemean)"
   ]
  },
  {
   "cell_type": "code",
   "execution_count": 27,
   "metadata": {},
   "outputs": [
    {
     "data": {
      "text/plain": [
       "0.9782957472499411"
      ]
     },
     "execution_count": 27,
     "metadata": {},
     "output_type": "execute_result"
    }
   ],
   "source": [
    "evaluate(collab_simplemean)"
   ]
  },
  {
   "cell_type": "code",
   "execution_count": 28,
   "metadata": {},
   "outputs": [],
   "source": [
    "min_rating = train.rating.min()\n",
    "max_rating = train.rating.max()"
   ]
  },
  {
   "cell_type": "code",
   "execution_count": 29,
   "metadata": {},
   "outputs": [],
   "source": [
    "# random rating scheme. using random int (in range of ratings) using uniform dist\n",
    "def rand_intrating(u, i):\n",
    "        return random.randint(min_rating, max_rating)"
   ]
  },
  {
   "cell_type": "code",
   "execution_count": 30,
   "metadata": {},
   "outputs": [
    {
     "data": {
      "text/plain": [
       "1.893609398328394"
      ]
     },
     "execution_count": 30,
     "metadata": {},
     "output_type": "execute_result"
    }
   ],
   "source": [
    "evaluate(rand_intrating)"
   ]
  },
  {
   "cell_type": "code",
   "execution_count": 31,
   "metadata": {},
   "outputs": [],
   "source": [
    "# random rating scheme. random float with uniform dist\n",
    "def rand_float_uniform(u, i):\n",
    "        return random.uniform(min_rating, max_rating)"
   ]
  },
  {
   "cell_type": "code",
   "execution_count": 32,
   "metadata": {},
   "outputs": [
    {
     "data": {
      "text/plain": [
       "1.7069712755035262"
      ]
     },
     "execution_count": 32,
     "metadata": {},
     "output_type": "execute_result"
    }
   ],
   "source": [
    "evaluate(rand_float_uniform)"
   ]
  },
  {
   "cell_type": "code",
   "execution_count": 33,
   "metadata": {},
   "outputs": [],
   "source": [
    "# normal float dist around mid point\n",
    "def rand_float_normal(u, i):\n",
    "        return random.normalvariate(3, 0.5)"
   ]
  },
  {
   "cell_type": "code",
   "execution_count": 34,
   "metadata": {},
   "outputs": [
    {
     "data": {
      "text/plain": [
       "1.3550013597941573"
      ]
     },
     "execution_count": 34,
     "metadata": {},
     "output_type": "execute_result"
    }
   ],
   "source": [
    "evaluate(rand_float_normal)"
   ]
  },
  {
   "cell_type": "code",
   "execution_count": 35,
   "metadata": {},
   "outputs": [],
   "source": [
    "def const(u, i):\n",
    "    return 3\n"
   ]
  },
  {
   "cell_type": "code",
   "execution_count": 36,
   "metadata": {},
   "outputs": [
    {
     "data": {
      "text/plain": [
       "1.2586836744476766"
      ]
     },
     "execution_count": 36,
     "metadata": {},
     "output_type": "execute_result"
    }
   ],
   "source": [
    "evaluate(const)"
   ]
  },
  {
   "cell_type": "code",
   "execution_count": 37,
   "metadata": {},
   "outputs": [
    {
     "data": {
      "text/html": [
       "<div>\n",
       "<style scoped>\n",
       "    .dataframe tbody tr th:only-of-type {\n",
       "        vertical-align: middle;\n",
       "    }\n",
       "\n",
       "    .dataframe tbody tr th {\n",
       "        vertical-align: top;\n",
       "    }\n",
       "\n",
       "    .dataframe thead th {\n",
       "        text-align: right;\n",
       "    }\n",
       "</style>\n",
       "<table border=\"1\" class=\"dataframe\">\n",
       "  <thead>\n",
       "    <tr style=\"text-align: right;\">\n",
       "      <th></th>\n",
       "      <th>user_id</th>\n",
       "      <th>movie_id</th>\n",
       "      <th>rating</th>\n",
       "      <th>timestamp</th>\n",
       "      <th>gender</th>\n",
       "      <th>age</th>\n",
       "      <th>occupation</th>\n",
       "      <th>zip</th>\n",
       "      <th>title</th>\n",
       "      <th>genres</th>\n",
       "      <th>for_testing</th>\n",
       "    </tr>\n",
       "  </thead>\n",
       "  <tbody>\n",
       "    <tr>\n",
       "      <th>0</th>\n",
       "      <td>1</td>\n",
       "      <td>1193</td>\n",
       "      <td>5</td>\n",
       "      <td>978300760</td>\n",
       "      <td>F</td>\n",
       "      <td>1</td>\n",
       "      <td>10</td>\n",
       "      <td>48067</td>\n",
       "      <td>One Flew Over the Cuckoo's Nest (1975)</td>\n",
       "      <td>Drama</td>\n",
       "      <td>False</td>\n",
       "    </tr>\n",
       "    <tr>\n",
       "      <th>1</th>\n",
       "      <td>2</td>\n",
       "      <td>1193</td>\n",
       "      <td>5</td>\n",
       "      <td>978298413</td>\n",
       "      <td>M</td>\n",
       "      <td>56</td>\n",
       "      <td>16</td>\n",
       "      <td>70072</td>\n",
       "      <td>One Flew Over the Cuckoo's Nest (1975)</td>\n",
       "      <td>Drama</td>\n",
       "      <td>False</td>\n",
       "    </tr>\n",
       "  </tbody>\n",
       "</table>\n",
       "</div>"
      ],
      "text/plain": [
       "   user_id  movie_id  rating  timestamp gender  age  occupation    zip  \\\n",
       "0        1      1193       5  978300760      F    1          10  48067   \n",
       "1        2      1193       5  978298413      M   56          16  70072   \n",
       "\n",
       "                                    title genres  for_testing  \n",
       "0  One Flew Over the Cuckoo's Nest (1975)  Drama        False  \n",
       "1  One Flew Over the Cuckoo's Nest (1975)  Drama        False  "
      ]
     },
     "execution_count": 37,
     "metadata": {},
     "output_type": "execute_result"
    }
   ],
   "source": [
    "train[:2]"
   ]
  },
  {
   "cell_type": "code",
   "execution_count": 35,
   "metadata": {},
   "outputs": [
    {
     "data": {
      "text/plain": [
       "True"
      ]
     },
     "execution_count": 35,
     "metadata": {},
     "output_type": "execute_result"
    }
   ],
   "source": [
    "sim_matrix_check = (~sim_matrix_abs.isna()) & (sim_matrix_abs != 1)\n",
    "sim_matrix_check.any(axis=None)"
   ]
  },
  {
   "cell_type": "code",
   "execution_count": 25,
   "metadata": {},
   "outputs": [
    {
     "name": "stdout",
     "output_type": "stream",
     "text": [
      "(3673, 6040)\n",
      "(3673, 6040)\n"
     ]
    }
   ],
   "source": [
    "print(ratings_pivot.shape)\n",
    "print(ratings_pivot.dropna(how='all').dropna(how='all', axis=1).shape)"
   ]
  },
  {
   "cell_type": "code",
   "execution_count": 36,
   "metadata": {},
   "outputs": [
    {
     "name": "stdout",
     "output_type": "stream",
     "text": [
      "(6040, 6040)\n",
      "(6037, 6037)\n",
      "(6040, 6040)\n",
      "(6040, 6040)\n",
      "(6040, 6040)\n"
     ]
    }
   ],
   "source": [
    "print(sim_matrix_abs.shape)\n",
    "print(sim_matrix_abs.dropna(how='all').dropna(how='all', axis=1).shape)\n",
    "print(sim_matrix_check.shape)\n",
    "print(cov_matrix.shape)\n",
    "print(cov_matrix.dropna(how='all').dropna(how='all', axis=1).shape)"
   ]
  },
  {
   "cell_type": "code",
   "execution_count": 26,
   "metadata": {},
   "outputs": [
    {
     "data": {
      "text/plain": [
       "count      6040\n",
       "unique        1\n",
       "top       False\n",
       "freq       6040\n",
       "dtype: object"
      ]
     },
     "execution_count": 26,
     "metadata": {},
     "output_type": "execute_result"
    }
   ],
   "source": [
    "(u_var_rating == 0).describe()"
   ]
  },
  {
   "cell_type": "code",
   "execution_count": 27,
   "metadata": {},
   "outputs": [
    {
     "data": {
      "text/html": [
       "<div>\n",
       "<style scoped>\n",
       "    .dataframe tbody tr th:only-of-type {\n",
       "        vertical-align: middle;\n",
       "    }\n",
       "\n",
       "    .dataframe tbody tr th {\n",
       "        vertical-align: top;\n",
       "    }\n",
       "\n",
       "    .dataframe thead th {\n",
       "        text-align: right;\n",
       "    }\n",
       "</style>\n",
       "<table border=\"1\" class=\"dataframe\">\n",
       "  <thead>\n",
       "    <tr style=\"text-align: right;\">\n",
       "      <th>user_id</th>\n",
       "      <th>1</th>\n",
       "      <th>2</th>\n",
       "      <th>3</th>\n",
       "      <th>4</th>\n",
       "      <th>5</th>\n",
       "      <th>6</th>\n",
       "      <th>7</th>\n",
       "      <th>8</th>\n",
       "      <th>9</th>\n",
       "      <th>10</th>\n",
       "      <th>...</th>\n",
       "      <th>6031</th>\n",
       "      <th>6032</th>\n",
       "      <th>6033</th>\n",
       "      <th>6034</th>\n",
       "      <th>6035</th>\n",
       "      <th>6036</th>\n",
       "      <th>6037</th>\n",
       "      <th>6038</th>\n",
       "      <th>6039</th>\n",
       "      <th>6040</th>\n",
       "    </tr>\n",
       "    <tr>\n",
       "      <th>movie_id</th>\n",
       "      <th></th>\n",
       "      <th></th>\n",
       "      <th></th>\n",
       "      <th></th>\n",
       "      <th></th>\n",
       "      <th></th>\n",
       "      <th></th>\n",
       "      <th></th>\n",
       "      <th></th>\n",
       "      <th></th>\n",
       "      <th></th>\n",
       "      <th></th>\n",
       "      <th></th>\n",
       "      <th></th>\n",
       "      <th></th>\n",
       "      <th></th>\n",
       "      <th></th>\n",
       "      <th></th>\n",
       "      <th></th>\n",
       "      <th></th>\n",
       "      <th></th>\n",
       "    </tr>\n",
       "  </thead>\n",
       "  <tbody>\n",
       "    <tr>\n",
       "      <th>1</th>\n",
       "      <td>5.0</td>\n",
       "      <td>NaN</td>\n",
       "      <td>NaN</td>\n",
       "      <td>NaN</td>\n",
       "      <td>NaN</td>\n",
       "      <td>NaN</td>\n",
       "      <td>NaN</td>\n",
       "      <td>4.0</td>\n",
       "      <td>NaN</td>\n",
       "      <td>5.0</td>\n",
       "      <td>...</td>\n",
       "      <td>NaN</td>\n",
       "      <td>4.0</td>\n",
       "      <td>NaN</td>\n",
       "      <td>NaN</td>\n",
       "      <td>4.0</td>\n",
       "      <td>NaN</td>\n",
       "      <td>NaN</td>\n",
       "      <td>NaN</td>\n",
       "      <td>NaN</td>\n",
       "      <td>3.0</td>\n",
       "    </tr>\n",
       "    <tr>\n",
       "      <th>2</th>\n",
       "      <td>NaN</td>\n",
       "      <td>NaN</td>\n",
       "      <td>NaN</td>\n",
       "      <td>NaN</td>\n",
       "      <td>NaN</td>\n",
       "      <td>NaN</td>\n",
       "      <td>NaN</td>\n",
       "      <td>NaN</td>\n",
       "      <td>NaN</td>\n",
       "      <td>5.0</td>\n",
       "      <td>...</td>\n",
       "      <td>NaN</td>\n",
       "      <td>NaN</td>\n",
       "      <td>NaN</td>\n",
       "      <td>NaN</td>\n",
       "      <td>NaN</td>\n",
       "      <td>NaN</td>\n",
       "      <td>NaN</td>\n",
       "      <td>NaN</td>\n",
       "      <td>NaN</td>\n",
       "      <td>NaN</td>\n",
       "    </tr>\n",
       "  </tbody>\n",
       "</table>\n",
       "<p>2 rows × 6040 columns</p>\n",
       "</div>"
      ],
      "text/plain": [
       "user_id   1     2     3     4     5     6     7     8     9     10    ...  \\\n",
       "movie_id                                                              ...   \n",
       "1          5.0   NaN   NaN   NaN   NaN   NaN   NaN   4.0   NaN   5.0  ...   \n",
       "2          NaN   NaN   NaN   NaN   NaN   NaN   NaN   NaN   NaN   5.0  ...   \n",
       "\n",
       "user_id   6031  6032  6033  6034  6035  6036  6037  6038  6039  6040  \n",
       "movie_id                                                              \n",
       "1          NaN   4.0   NaN   NaN   4.0   NaN   NaN   NaN   NaN   3.0  \n",
       "2          NaN   NaN   NaN   NaN   NaN   NaN   NaN   NaN   NaN   NaN  \n",
       "\n",
       "[2 rows x 6040 columns]"
      ]
     },
     "execution_count": 27,
     "metadata": {},
     "output_type": "execute_result"
    }
   ],
   "source": [
    "ratings_pivot[:2]"
   ]
  },
  {
   "cell_type": "code",
   "execution_count": 28,
   "metadata": {},
   "outputs": [
    {
     "data": {
      "text/html": [
       "<div>\n",
       "<style scoped>\n",
       "    .dataframe tbody tr th:only-of-type {\n",
       "        vertical-align: middle;\n",
       "    }\n",
       "\n",
       "    .dataframe tbody tr th {\n",
       "        vertical-align: top;\n",
       "    }\n",
       "\n",
       "    .dataframe thead th {\n",
       "        text-align: right;\n",
       "    }\n",
       "</style>\n",
       "<table border=\"1\" class=\"dataframe\">\n",
       "  <thead>\n",
       "    <tr style=\"text-align: right;\">\n",
       "      <th>user_id</th>\n",
       "      <th>1</th>\n",
       "      <th>2</th>\n",
       "      <th>3</th>\n",
       "      <th>4</th>\n",
       "      <th>5</th>\n",
       "      <th>6</th>\n",
       "      <th>7</th>\n",
       "      <th>8</th>\n",
       "      <th>9</th>\n",
       "      <th>10</th>\n",
       "      <th>...</th>\n",
       "      <th>6031</th>\n",
       "      <th>6032</th>\n",
       "      <th>6033</th>\n",
       "      <th>6034</th>\n",
       "      <th>6035</th>\n",
       "      <th>6036</th>\n",
       "      <th>6037</th>\n",
       "      <th>6038</th>\n",
       "      <th>6039</th>\n",
       "      <th>6040</th>\n",
       "    </tr>\n",
       "    <tr>\n",
       "      <th>movie_id</th>\n",
       "      <th></th>\n",
       "      <th></th>\n",
       "      <th></th>\n",
       "      <th></th>\n",
       "      <th></th>\n",
       "      <th></th>\n",
       "      <th></th>\n",
       "      <th></th>\n",
       "      <th></th>\n",
       "      <th></th>\n",
       "      <th></th>\n",
       "      <th></th>\n",
       "      <th></th>\n",
       "      <th></th>\n",
       "      <th></th>\n",
       "      <th></th>\n",
       "      <th></th>\n",
       "      <th></th>\n",
       "      <th></th>\n",
       "      <th></th>\n",
       "      <th></th>\n",
       "    </tr>\n",
       "  </thead>\n",
       "  <tbody>\n",
       "    <tr>\n",
       "      <th>1</th>\n",
       "      <td>1.887029</td>\n",
       "      <td>NaN</td>\n",
       "      <td>NaN</td>\n",
       "      <td>NaN</td>\n",
       "      <td>NaN</td>\n",
       "      <td>NaN</td>\n",
       "      <td>NaN</td>\n",
       "      <td>0.147228</td>\n",
       "      <td>NaN</td>\n",
       "      <td>1.203674</td>\n",
       "      <td>...</td>\n",
       "      <td>NaN</td>\n",
       "      <td>-0.084776</td>\n",
       "      <td>NaN</td>\n",
       "      <td>NaN</td>\n",
       "      <td>0.595009</td>\n",
       "      <td>NaN</td>\n",
       "      <td>NaN</td>\n",
       "      <td>NaN</td>\n",
       "      <td>NaN</td>\n",
       "      <td>-0.448051</td>\n",
       "    </tr>\n",
       "    <tr>\n",
       "      <th>2</th>\n",
       "      <td>NaN</td>\n",
       "      <td>NaN</td>\n",
       "      <td>NaN</td>\n",
       "      <td>NaN</td>\n",
       "      <td>NaN</td>\n",
       "      <td>NaN</td>\n",
       "      <td>NaN</td>\n",
       "      <td>NaN</td>\n",
       "      <td>NaN</td>\n",
       "      <td>1.203674</td>\n",
       "      <td>...</td>\n",
       "      <td>NaN</td>\n",
       "      <td>NaN</td>\n",
       "      <td>NaN</td>\n",
       "      <td>NaN</td>\n",
       "      <td>NaN</td>\n",
       "      <td>NaN</td>\n",
       "      <td>NaN</td>\n",
       "      <td>NaN</td>\n",
       "      <td>NaN</td>\n",
       "      <td>NaN</td>\n",
       "    </tr>\n",
       "  </tbody>\n",
       "</table>\n",
       "<p>2 rows × 6040 columns</p>\n",
       "</div>"
      ],
      "text/plain": [
       "user_id       1     2     3     4     5     6     7         8     9     \\\n",
       "movie_id                                                                 \n",
       "1         1.887029   NaN   NaN   NaN   NaN   NaN   NaN  0.147228   NaN   \n",
       "2              NaN   NaN   NaN   NaN   NaN   NaN   NaN       NaN   NaN   \n",
       "\n",
       "user_id       10    ...  6031      6032  6033  6034      6035  6036  6037  \\\n",
       "movie_id            ...                                                     \n",
       "1         1.203674  ...   NaN -0.084776   NaN   NaN  0.595009   NaN   NaN   \n",
       "2         1.203674  ...   NaN       NaN   NaN   NaN       NaN   NaN   NaN   \n",
       "\n",
       "user_id   6038  6039      6040  \n",
       "movie_id                        \n",
       "1          NaN   NaN -0.448051  \n",
       "2          NaN   NaN       NaN  \n",
       "\n",
       "[2 rows x 6040 columns]"
      ]
     },
     "execution_count": 28,
     "metadata": {},
     "output_type": "execute_result"
    }
   ],
   "source": [
    "norm_differential[:2]"
   ]
  },
  {
   "cell_type": "code",
   "execution_count": 29,
   "metadata": {},
   "outputs": [
    {
     "data": {
      "text/html": [
       "<div>\n",
       "<style scoped>\n",
       "    .dataframe tbody tr th:only-of-type {\n",
       "        vertical-align: middle;\n",
       "    }\n",
       "\n",
       "    .dataframe tbody tr th {\n",
       "        vertical-align: top;\n",
       "    }\n",
       "\n",
       "    .dataframe thead th {\n",
       "        text-align: right;\n",
       "    }\n",
       "</style>\n",
       "<table border=\"1\" class=\"dataframe\">\n",
       "  <thead>\n",
       "    <tr style=\"text-align: right;\">\n",
       "      <th>user_id</th>\n",
       "      <th>1</th>\n",
       "      <th>2</th>\n",
       "      <th>3</th>\n",
       "      <th>4</th>\n",
       "      <th>5</th>\n",
       "      <th>6</th>\n",
       "      <th>7</th>\n",
       "      <th>8</th>\n",
       "      <th>9</th>\n",
       "      <th>10</th>\n",
       "      <th>...</th>\n",
       "      <th>6031</th>\n",
       "      <th>6032</th>\n",
       "      <th>6033</th>\n",
       "      <th>6034</th>\n",
       "      <th>6035</th>\n",
       "      <th>6036</th>\n",
       "      <th>6037</th>\n",
       "      <th>6038</th>\n",
       "      <th>6039</th>\n",
       "      <th>6040</th>\n",
       "    </tr>\n",
       "    <tr>\n",
       "      <th>user_id</th>\n",
       "      <th></th>\n",
       "      <th></th>\n",
       "      <th></th>\n",
       "      <th></th>\n",
       "      <th></th>\n",
       "      <th></th>\n",
       "      <th></th>\n",
       "      <th></th>\n",
       "      <th></th>\n",
       "      <th></th>\n",
       "      <th></th>\n",
       "      <th></th>\n",
       "      <th></th>\n",
       "      <th></th>\n",
       "      <th></th>\n",
       "      <th></th>\n",
       "      <th></th>\n",
       "      <th></th>\n",
       "      <th></th>\n",
       "      <th></th>\n",
       "      <th></th>\n",
       "    </tr>\n",
       "  </thead>\n",
       "  <tbody>\n",
       "    <tr>\n",
       "      <th>1</th>\n",
       "      <td>0.416376</td>\n",
       "      <td>0.45000</td>\n",
       "      <td>-0.666667</td>\n",
       "      <td>0.50</td>\n",
       "      <td>-0.500000</td>\n",
       "      <td>4.666667e-01</td>\n",
       "      <td>0.000000</td>\n",
       "      <td>-0.200000</td>\n",
       "      <td>0.035714</td>\n",
       "      <td>0.054348</td>\n",
       "      <td>...</td>\n",
       "      <td>1.776357e-16</td>\n",
       "      <td>0.666667</td>\n",
       "      <td>0.500</td>\n",
       "      <td>NaN</td>\n",
       "      <td>0.200000</td>\n",
       "      <td>-0.098039</td>\n",
       "      <td>-0.261905</td>\n",
       "      <td>NaN</td>\n",
       "      <td>0.054545</td>\n",
       "      <td>-0.208333</td>\n",
       "    </tr>\n",
       "    <tr>\n",
       "      <th>2</th>\n",
       "      <td>0.450000</td>\n",
       "      <td>0.98439</td>\n",
       "      <td>0.267857</td>\n",
       "      <td>-0.25</td>\n",
       "      <td>-0.288462</td>\n",
       "      <td>8.881784e-17</td>\n",
       "      <td>-0.063636</td>\n",
       "      <td>-0.077206</td>\n",
       "      <td>0.678571</td>\n",
       "      <td>-0.053977</td>\n",
       "      <td>...</td>\n",
       "      <td>-3.214286e-01</td>\n",
       "      <td>0.500000</td>\n",
       "      <td>0.125</td>\n",
       "      <td>NaN</td>\n",
       "      <td>0.821053</td>\n",
       "      <td>0.242525</td>\n",
       "      <td>0.105263</td>\n",
       "      <td>0.0</td>\n",
       "      <td>0.200000</td>\n",
       "      <td>0.048295</td>\n",
       "    </tr>\n",
       "  </tbody>\n",
       "</table>\n",
       "<p>2 rows × 6040 columns</p>\n",
       "</div>"
      ],
      "text/plain": [
       "user_id      1        2         3     4         5             6         7     \\\n",
       "user_id                                                                        \n",
       "1        0.416376  0.45000 -0.666667  0.50 -0.500000  4.666667e-01  0.000000   \n",
       "2        0.450000  0.98439  0.267857 -0.25 -0.288462  8.881784e-17 -0.063636   \n",
       "\n",
       "user_id      8         9         10    ...          6031      6032   6033  \\\n",
       "user_id                                ...                                  \n",
       "1       -0.200000  0.035714  0.054348  ...  1.776357e-16  0.666667  0.500   \n",
       "2       -0.077206  0.678571 -0.053977  ... -3.214286e-01  0.500000  0.125   \n",
       "\n",
       "user_id  6034      6035      6036      6037  6038      6039      6040  \n",
       "user_id                                                                \n",
       "1         NaN  0.200000 -0.098039 -0.261905   NaN  0.054545 -0.208333  \n",
       "2         NaN  0.821053  0.242525  0.105263   0.0  0.200000  0.048295  \n",
       "\n",
       "[2 rows x 6040 columns]"
      ]
     },
     "execution_count": 29,
     "metadata": {},
     "output_type": "execute_result"
    }
   ],
   "source": [
    "cov_matrix[:2]\n"
   ]
  },
  {
   "cell_type": "code",
   "execution_count": 35,
   "metadata": {},
   "outputs": [],
   "source": [
    "def pred_rating(user, movie):\n",
    "    if not(movie in ratings_pivot.index):\n",
    "        return 3.0\n",
    "\n",
    "    movie_vec = ratings_pivot.loc[movie]\n",
    "    movie_vec = movie_vec.dropna()\n",
    "\n",
    "    # get sim vec conditioned on valid (not na) movie_vec values\n",
    "    sim_vec = sim_matrix_abs[user].loc[movie_vec.index]\n",
    "    weighted_rating = (movie_vec * sim_vec).dropna()\n",
    "\n",
    "    # if no weighted ratings (no overlapping valid movie vec and sim vec values), use movie_vec to compute rating\n",
    "    if weighted_rating.size <= 0:\n",
    "        return movie_vec.mean() if movie_vec.size > 0 else 3.0\n",
    "\n",
    "    sim_vec_sum = sim_vec.sum()\n",
    "\n",
    "    # if sim space for this context evaluates to 0, use movie_vec to compute rating \n",
    "    if sim_vec_sum <= 0:\n",
    "        return movie_vec.mean() if movie_vec.size > 0 else 3.0\n",
    "    \n",
    "    # use similarity as confidence to weight the ratings of other users\n",
    "    return weighted_rating.sum()/sim_vec_sum"
   ]
  },
  {
   "cell_type": "code",
   "execution_count": 30,
   "metadata": {},
   "outputs": [],
   "source": [
    "def pred_rating_norm(user, movie):\n",
    "    if not(movie in norm_differential.index):\n",
    "        return 3.0\n",
    "\n",
    "    # get norm differential (from mean) for this movie, for each user\n",
    "    norm_diff_movie_vec = norm_differential.loc[movie]\n",
    "\n",
    "    # get covariance of this user wrt each user\n",
    "    cov_vec = cov_matrix[user]\n",
    "\n",
    "    # get other users' ratings expressed as differential from mean of this user\n",
    "    diff_rating_user = norm_diff_movie_vec * cov_vec\n",
    "\n",
    "    # add mean of this user to get other users' ratings expressed in terms of this user's scale\n",
    "    rating_user = diff_rating_user + u_mean_rating[user]\n",
    "\n",
    "    movie_vec = rating_user.dropna()\n",
    "\n",
    "    # get sim vec conditioned on valid (not na) movie_vec values. This is so that we only consider sim values, where movie ratings are defined to calculate sim_vec_sum\n",
    "    sim_vec = sim_matrix_abs[user].loc[movie_vec.index]\n",
    "    \n",
    "    weighted_rating = (movie_vec * sim_vec).dropna()\n",
    "\n",
    "    # if no weighted ratings (no overlapping valid movie vec and sim vec values), use movie_vec to compute rating\n",
    "    if weighted_rating.size <= 0:\n",
    "        return movie_vec.mean() if movie_vec.size > 0 else 3.0\n",
    "\n",
    "    sim_vec_sum = sim_vec.sum()\n",
    "\n",
    "    # if sim space for this context evaluates to 0, use movie_vec to compute rating \n",
    "    if sim_vec_sum <= 0:\n",
    "        return movie_vec.mean() if movie_vec.size > 0 else 3.0\n",
    "    \n",
    "    # use similarity as confidence to weight the ratings of other users\n",
    "    return weighted_rating.sum()/sim_vec_sum"
   ]
  },
  {
   "cell_type": "code",
   "execution_count": 31,
   "metadata": {},
   "outputs": [],
   "source": [
    "p = predict(test, pred_rating_norm)"
   ]
  },
  {
   "cell_type": "code",
   "execution_count": 32,
   "metadata": {},
   "outputs": [],
   "source": [
    "p.to_csv('movielens/predictions_norm.csv', index=None)"
   ]
  },
  {
   "cell_type": "code",
   "execution_count": 36,
   "metadata": {},
   "outputs": [],
   "source": [
    "p_nonorm = predict(test, pred_rating)\n",
    "# p.to_csv('movielens/predictions.csv', index=None)"
   ]
  },
  {
   "cell_type": "code",
   "execution_count": 38,
   "metadata": {},
   "outputs": [
    {
     "data": {
      "text/plain": [
       "0.9700281592662616"
      ]
     },
     "execution_count": 38,
     "metadata": {},
     "output_type": "execute_result"
    }
   ],
   "source": [
    "evaluate_predictions(p)"
   ]
  },
  {
   "cell_type": "code",
   "execution_count": 37,
   "metadata": {},
   "outputs": [
    {
     "data": {
      "text/plain": [
       "0.9695074115603279"
      ]
     },
     "execution_count": 37,
     "metadata": {},
     "output_type": "execute_result"
    }
   ],
   "source": [
    "evaluate_predictions(p_nonorm)"
   ]
  },
  {
   "cell_type": "code",
   "execution_count": 27,
   "metadata": {},
   "outputs": [
    {
     "data": {
      "text/html": [
       "<div>\n",
       "<style scoped>\n",
       "    .dataframe tbody tr th:only-of-type {\n",
       "        vertical-align: middle;\n",
       "    }\n",
       "\n",
       "    .dataframe tbody tr th {\n",
       "        vertical-align: top;\n",
       "    }\n",
       "\n",
       "    .dataframe thead th {\n",
       "        text-align: right;\n",
       "    }\n",
       "</style>\n",
       "<table border=\"1\" class=\"dataframe\">\n",
       "  <thead>\n",
       "    <tr style=\"text-align: right;\">\n",
       "      <th></th>\n",
       "      <th>user_id</th>\n",
       "      <th>movie_id</th>\n",
       "      <th>rating</th>\n",
       "      <th>timestamp</th>\n",
       "      <th>gender</th>\n",
       "      <th>age</th>\n",
       "      <th>occupation</th>\n",
       "      <th>zip</th>\n",
       "      <th>title</th>\n",
       "      <th>genres</th>\n",
       "      <th>for_testing</th>\n",
       "      <th>prediction</th>\n",
       "    </tr>\n",
       "  </thead>\n",
       "  <tbody>\n",
       "  </tbody>\n",
       "</table>\n",
       "</div>"
      ],
      "text/plain": [
       "Empty DataFrame\n",
       "Columns: [user_id, movie_id, rating, timestamp, gender, age, occupation, zip, title, genres, for_testing, prediction]\n",
       "Index: []"
      ]
     },
     "execution_count": 27,
     "metadata": {},
     "output_type": "execute_result"
    }
   ],
   "source": [
    "prediction_undefined = p[p.prediction.isna()]\n",
    "prediction_undefined"
   ]
  },
  {
   "cell_type": "code",
   "execution_count": 33,
   "metadata": {},
   "outputs": [
    {
     "data": {
      "text/plain": [
       "2.0000000000000004"
      ]
     },
     "execution_count": 33,
     "metadata": {},
     "output_type": "execute_result"
    }
   ],
   "source": [
    "pred_rating(3765, 2258)"
   ]
  },
  {
   "cell_type": "code",
   "execution_count": 71,
   "metadata": {},
   "outputs": [
    {
     "data": {
      "text/plain": [
       "0.9691078861431314"
      ]
     },
     "execution_count": 71,
     "metadata": {},
     "output_type": "execute_result"
    }
   ],
   "source": [
    "evaluate(pred_rating)"
   ]
  },
  {
   "cell_type": "code",
   "execution_count": null,
   "metadata": {},
   "outputs": [],
   "source": []
  },
  {
   "cell_type": "code",
   "execution_count": 34,
   "metadata": {},
   "outputs": [
    {
     "name": "stdout",
     "output_type": "stream",
     "text": [
      "(42, 12)\n",
      "(9, 12)\n",
      "(17, 12)\n",
      "(19, 12)\n",
      "(4, 12)\n",
      "(0, 12)\n"
     ]
    }
   ],
   "source": [
    "predict_3 = p[p.prediction == 3.0]\n",
    "print(predict_3.shape)\n",
    "predict_2 = p[p.prediction == 2.0]\n",
    "print(predict_2.shape)\n",
    "predict_4 = p[p.prediction == 4.0]\n",
    "print(predict_4.shape)\n",
    "predict_1 = p[p.prediction == 1.0]\n",
    "print(predict_1.shape)\n",
    "predict_5 = p[p.prediction == 5.0]\n",
    "print(predict_5.shape)\n",
    "predict_0 = p[p.prediction == 0]\n",
    "print(predict_0.shape)"
   ]
  }
 ],
 "metadata": {
  "interpreter": {
   "hash": "d6a2ed50b9e4eaa101095046af0807d99d7745b36820485d55a169bc42680a05"
  },
  "kernelspec": {
   "display_name": "Python 3.9.12 64-bit ('Anaconda3')",
   "language": "python",
   "name": "python3"
  },
  "language_info": {
   "codemirror_mode": {
    "name": "ipython",
    "version": 3
   },
   "file_extension": ".py",
   "mimetype": "text/x-python",
   "name": "python",
   "nbconvert_exporter": "python",
   "pygments_lexer": "ipython3",
   "version": "3.9.12"
  },
  "orig_nbformat": 4
 },
 "nbformat": 4,
 "nbformat_minor": 2
}
